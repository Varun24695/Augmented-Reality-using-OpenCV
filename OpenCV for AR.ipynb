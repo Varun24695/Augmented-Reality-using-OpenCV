{
 "cells": [
  {
   "cell_type": "code",
   "execution_count": 1,
   "id": "4b9cf654",
   "metadata": {},
   "outputs": [],
   "source": [
    "import cv2\n",
    "import numpy as np"
   ]
  },
  {
   "cell_type": "code",
   "execution_count": 2,
   "id": "e233b565",
   "metadata": {},
   "outputs": [],
   "source": [
    "MIN_MATCHES = 20\n",
    "detector = cv2.ORB_create(nfeatures=5000)"
   ]
  },
  {
   "cell_type": "code",
   "execution_count": 3,
   "id": "0202f8c9",
   "metadata": {},
   "outputs": [],
   "source": [
    "FLANN_INDEX_KDTREE = 1\n",
    "index_params = dict(algorithm = FLANN_INDEX_KDTREE, trees = 5)\n",
    "search_params = dict(checks=100)\n",
    "flann = cv2.FlannBasedMatcher(index_params,search_params)"
   ]
  },
  {
   "cell_type": "code",
   "execution_count": 4,
   "id": "18aba4c1",
   "metadata": {},
   "outputs": [],
   "source": [
    "def load_input():\n",
    "    input_image = cv2.imread('buch.jpg')\n",
    "    augment_image = cv2.imread('mask2.jpg')\n",
    "\n",
    "    input_image = cv2.resize(input_image, (300,400),interpolation=cv2.INTER_AREA)\n",
    "    augment_image = cv2.resize(augment_image, (300,400))\n",
    "    gray_image = cv2.cvtColor(input_image, cv2.COLOR_BGR2GRAY)\n",
    "    # find the keypoints with ORB\n",
    "    keypoints, descriptors = detector.detectAndCompute(gray_image, None)\n",
    "\n",
    "    return gray_image,augment_image,keypoints, descriptors"
   ]
  },
  {
   "cell_type": "code",
   "execution_count": null,
   "id": "201ea80d",
   "metadata": {},
   "outputs": [],
   "source": [
    "def compute_matches(descriptors_input, descriptors_output):\n",
    "    # Match descriptors\n",
    "    if(len(descriptors_output)!=0 and len(descriptors_input)!=0):\n",
    "        matches = flann.knnMatch(np.asarray(descriptors_input,np.float32),np.asarray(descriptors_output,np.float32),k=2)\n",
    "        good = []\n",
    "        for m,n in matches:\n",
    "            if m.distance < 0.69*n.distance:\n",
    "                good.append(m)\n",
    "        return good\n",
    "    else:\n",
    "        return None\n",
    "    \n",
    "    \n",
    "if __name__=='__main__':\n",
    "\n",
    "    #Getting Information form the Input image\n",
    "    input_image, aug_image, input_keypoints, input_descriptors = load_input()\n",
    "\n",
    "    cap = cv2.VideoCapture(0)\n",
    "    ret, frame = cap.read()\n",
    "\n",
    "    while(ret):\n",
    "        ret, frame = cap.read()\n",
    "        if(len(input_keypoints)<MIN_MATCHES):\n",
    "            continue\n",
    "        frame = cv2.resize(frame, (600,450))\n",
    "        frame_bw = cv2.cvtColor(frame, cv2.COLOR_BGR2GRAY)\n",
    "        output_keypoints, output_descriptors = detector.detectAndCompute(frame_bw, None)\n",
    "        matches = compute_matches(input_descriptors, output_descriptors)\n",
    "        if(matches!=None):\n",
    "            if(len(matches)>10):\n",
    "                src_pts = np.float32([ input_keypoints[m.queryIdx].pt for m in matches ]).reshape(-1,1,2)\n",
    "                dst_pts = np.float32([ output_keypoints[m.trainIdx].pt for m in matches ]).reshape(-1,1,2)\n",
    "\n",
    "                #Finally find the homography matrix\n",
    "                M, mask = cv2.findHomography(src_pts, dst_pts, cv2.RANSAC,5.0)\n",
    "                #matchesMask = mask.ravel().tolist()\n",
    "                pts = np.float32([ [0,0],[0,399],[299,399],[299,0] ]).reshape(-1,1,2)\n",
    "                dst = cv2.perspectiveTransform(pts,M)\n",
    "                M_aug = cv2.warpPerspective(aug_image, M, (600,450))\n",
    "\n",
    "                #getting the frame ready for addition operation with Mask Image\n",
    "                frameb = cv2.fillConvexPoly(frame,dst.astype(int),0)\n",
    "                Final = frameb+M_aug\n",
    "                \n",
    "                #output_final = cv2.polylines(frame,[np.int32(dst)],True,255,3, cv2.LINE_AA)\n",
    "                cv2.imshow('Final Output', Final)\n",
    "                #cv2.imshow('Finallli', Final)\n",
    "            else:\n",
    "                cv2.imshow('Final Output', frame)\n",
    "        else:\n",
    "            cv2.imshow('Final Output', frame)\n",
    "        key = cv2.waitKey(15)\n",
    "        if(key==27):\n",
    "            break"
   ]
  },
  {
   "cell_type": "code",
   "execution_count": null,
   "id": "e252d0f1",
   "metadata": {},
   "outputs": [],
   "source": []
  },
  {
   "cell_type": "code",
   "execution_count": null,
   "id": "5961453b",
   "metadata": {},
   "outputs": [],
   "source": []
  }
 ],
 "metadata": {
  "kernelspec": {
   "display_name": "Python 3",
   "language": "python",
   "name": "python3"
  },
  "language_info": {
   "codemirror_mode": {
    "name": "ipython",
    "version": 3
   },
   "file_extension": ".py",
   "mimetype": "text/x-python",
   "name": "python",
   "nbconvert_exporter": "python",
   "pygments_lexer": "ipython3",
   "version": "3.8.5"
  }
 },
 "nbformat": 4,
 "nbformat_minor": 5
}
