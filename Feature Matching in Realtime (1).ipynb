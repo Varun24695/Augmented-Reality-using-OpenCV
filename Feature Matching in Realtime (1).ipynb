{
 "cells": [
  {
   "cell_type": "code",
   "execution_count": 1,
   "id": "d5aaf273",
   "metadata": {},
   "outputs": [],
   "source": [
    "import cv2\n",
    "import numpy as np"
   ]
  },
  {
   "cell_type": "code",
   "execution_count": 2,
   "id": "101af89f",
   "metadata": {},
   "outputs": [],
   "source": [
    "#Initilizing the ORB Feature Detector\n",
    "MIN_MATCHES = 20\n",
    "detector = cv2.ORB_create(nfeatures=5000)"
   ]
  },
  {
   "cell_type": "code",
   "execution_count": 3,
   "id": "8b015630",
   "metadata": {},
   "outputs": [],
   "source": [
    "#Preparing the FLANN Based matcher\n",
    "index_params = dict(algorithm = 1, trees=3)\n",
    "search_params = dict(checks=100)\n",
    "flann = cv2.FlannBasedMatcher(index_params,search_params)"
   ]
  },
  {
   "cell_type": "code",
   "execution_count": 4,
   "id": "cff0f25b",
   "metadata": {},
   "outputs": [],
   "source": [
    "#Function for Loading input image and Keypoints\n",
    "def load_input():\n",
    "    input_image = cv2.imread('buch.jpg')\n",
    "    input_image = cv2.resize(input_image, (400,550),interpolation=cv2.INTER_AREA)\n",
    "    gray_image = cv2.cvtColor(input_image, cv2.COLOR_BGR2GRAY)\n",
    "# find the keypoints with ORB\n",
    "    keypoints, descriptors = detector.detectAndCompute(gray_image, None)\n",
    "\n",
    "    return gray_image,keypoints, descriptors"
   ]
  },
  {
   "cell_type": "code",
   "execution_count": 5,
   "id": "5eec3dfc",
   "metadata": {},
   "outputs": [],
   "source": [
    "#Function for Computing Matches between the train and query descriptors\n",
    "def compute_matches(descriptors_input, descriptors_output):\n",
    "\n",
    "    if(len(descriptors_output)!=0 and len(descriptors_input)!=0):\n",
    "        matches = flann.knnMatch(np.asarray(descriptors_input,np.float32),np.asarray(descriptors_output,np.float32),k=2)\n",
    "        good = []\n",
    "        for m,n in matches:\n",
    "            if m.distance < 0.68*n.distance:\n",
    "                good.append([m])\n",
    "        return good\n",
    "    else:\n",
    "        return None"
   ]
  },
  {
   "cell_type": "code",
   "execution_count": null,
   "id": "d1c17133",
   "metadata": {},
   "outputs": [],
   "source": [
    "#Main Working Logic\n",
    "if __name__=='__main__':\n",
    "\n",
    "    #Getting Information form the Input image\n",
    "    input_image, input_keypoints, input_descriptors = load_input()\n",
    "\n",
    "    #Getting camera ready\n",
    "    cap = cv2.VideoCapture(0)\n",
    "    ret, frame = cap.read()\n",
    "\n",
    "    while(ret):\n",
    "        ret, frame = cap.read()\n",
    "\n",
    "        #Condition Check for error escaping\n",
    "        if(len(input_keypoints)<MIN_MATCHES):\n",
    "            continue\n",
    "        #Resizing input image for fast computation\n",
    "        frame = cv2.resize(frame, (700,600))\n",
    "        frame_bw = cv2.cvtColor(frame, cv2.COLOR_BGR2GRAY)\n",
    "\n",
    "        #Computing and matching teh Keypoints of Input image and query Image\n",
    "        output_keypoints, output_descriptors = detector.detectAndCompute(frame_bw, None)\n",
    "        matches = compute_matches(input_descriptors, output_descriptors)\n",
    "\n",
    "        if(matches!=None):\n",
    "            output_final = cv2.drawMatchesKnn(input_image,input_keypoints,frame,output_keypoints,matches,None,flags=cv2.DrawMatchesFlags_NOT_DRAW_SINGLE_POINTS)\n",
    "            cv2.imshow('Final Output', output_final)\n",
    "        else:\n",
    "            cv2.imshow('Final Output', frame)\n",
    "        key = cv2.waitKey(5)\n",
    "        if(key==27):\n",
    "            break"
   ]
  },
  {
   "cell_type": "code",
   "execution_count": null,
   "id": "e74ffcd1",
   "metadata": {},
   "outputs": [],
   "source": []
  },
  {
   "cell_type": "code",
   "execution_count": null,
   "id": "8b5bfa7a",
   "metadata": {},
   "outputs": [],
   "source": []
  }
 ],
 "metadata": {
  "kernelspec": {
   "display_name": "Python 3",
   "language": "python",
   "name": "python3"
  },
  "language_info": {
   "codemirror_mode": {
    "name": "ipython",
    "version": 3
   },
   "file_extension": ".py",
   "mimetype": "text/x-python",
   "name": "python",
   "nbconvert_exporter": "python",
   "pygments_lexer": "ipython3",
   "version": "3.8.5"
  }
 },
 "nbformat": 4,
 "nbformat_minor": 5
}
