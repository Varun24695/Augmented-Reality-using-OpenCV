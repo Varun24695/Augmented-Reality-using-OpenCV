{
 "cells": [
  {
   "cell_type": "code",
   "execution_count": 2,
   "id": "8d29a216",
   "metadata": {},
   "outputs": [],
   "source": [
    "import cv2\n",
    "import numpy as np"
   ]
  },
  {
   "cell_type": "code",
   "execution_count": 8,
   "id": "1868dec9",
   "metadata": {},
   "outputs": [],
   "source": [
    "#Getting the Image ready for feature detection\n",
    "input_image = cv2.imread('buch.jpg')\n",
    "input_image = cv2.resize(input_image, (400,550),interpolation=cv2.INTER_AREA)\n",
    "gray_image = cv2.cvtColor(input_image, cv2.COLOR_BGR2GRAY)"
   ]
  },
  {
   "cell_type": "code",
   "execution_count": 9,
   "id": "7d75cd9a",
   "metadata": {},
   "outputs": [],
   "source": [
    "# Initiate ORB object\n",
    "orb = cv2.ORB_create(nfeatures=1000)"
   ]
  },
  {
   "cell_type": "code",
   "execution_count": 10,
   "id": "e5f960c6",
   "metadata": {},
   "outputs": [],
   "source": [
    "# find the keypoints with ORB\n",
    "keypoints, descriptors = orb.detectAndCompute(gray_image, None)"
   ]
  },
  {
   "cell_type": "code",
   "execution_count": 11,
   "id": "8e657d9a",
   "metadata": {},
   "outputs": [],
   "source": [
    "# draw only the location of the keypoints without size or\n",
    "final_keypoints = cv2.drawKeypoints(gray_image, keypoints,input_image,(0,255,0))"
   ]
  },
  {
   "cell_type": "code",
   "execution_count": 12,
   "id": "144e5be6",
   "metadata": {},
   "outputs": [
    {
     "data": {
      "text/plain": [
       "-1"
      ]
     },
     "execution_count": 12,
     "metadata": {},
     "output_type": "execute_result"
    }
   ],
   "source": [
    "cv2.imshow('ORB keypoints', final_keypoints)\n",
    "cv2.waitKey()"
   ]
  },
  {
   "cell_type": "code",
   "execution_count": null,
   "id": "31f9ee67",
   "metadata": {},
   "outputs": [],
   "source": []
  }
 ],
 "metadata": {
  "kernelspec": {
   "display_name": "Python 3",
   "language": "python",
   "name": "python3"
  }
 },
 "nbformat": 4,
 "nbformat_minor": 5
}
